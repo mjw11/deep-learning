{
 "cells": [
  {
   "cell_type": "markdown",
   "metadata": {
    "collapsed": true
   },
   "source": [
    "# Image Classification\n",
    "In this project, you'll classify images from the [CIFAR-10 dataset](https://www.cs.toronto.edu/~kriz/cifar.html).  The dataset consists of airplanes, dogs, cats, and other objects. You'll preprocess the images, then train a convolutional neural network on all the samples. The images need to be normalized and the labels need to be one-hot encoded.  You'll get to apply what you learned and build a convolutional, max pooling, dropout, and fully connected layers.  At the end, you'll get to see your neural network's predictions on the sample images.\n"
   ]
  },
  {
   "cell_type": "markdown",
   "metadata": {},
   "source": [
    "## About this Notebook\n",
    "\n",
    "This notebook is the completion of a project from the Udacity Foundations in Deep Learning nanodegree. The goal is to build a predictive neural network from basic linear algebra and find the proper hyperparameters for training. \n",
    "\n",
    "Several functions come pre-packaged from Udacity. \n"
   ]
  },
  {
   "cell_type": "markdown",
   "metadata": {},
   "source": [
    "## Get the Data\n",
    "Run the following cell to download the [CIFAR-10 dataset for python](https://www.cs.toronto.edu/~kriz/cifar-10-python.tar.gz)."
   ]
  },
  {
   "cell_type": "code",
   "execution_count": 82,
   "metadata": {},
   "outputs": [
    {
     "name": "stdout",
     "output_type": "stream",
     "text": [
      "All files found!\n"
     ]
    }
   ],
   "source": [
    "\"\"\"\n",
    "DON'T MODIFY ANYTHING IN THIS CELL THAT IS BELOW THIS LINE\n",
    "\"\"\"\n",
    "from urllib.request import urlretrieve\n",
    "from os.path import isfile, isdir\n",
    "from tqdm import tqdm\n",
    "import problem_unittests as tests\n",
    "import tarfile\n",
    "\n",
    "cifar10_dataset_folder_path = 'cifar-10-batches-py'\n",
    "\n",
    "# Use Floyd's cifar-10 dataset if present\n",
    "floyd_cifar10_location = '/input/cifar-10/python.tar.gz'\n",
    "if isfile(floyd_cifar10_location):\n",
    "    tar_gz_path = floyd_cifar10_location\n",
    "else:\n",
    "    tar_gz_path = 'cifar-10-python.tar.gz'\n",
    "\n",
    "class DLProgress(tqdm):\n",
    "    last_block = 0\n",
    "\n",
    "    def hook(self, block_num=1, block_size=1, total_size=None):\n",
    "        self.total = total_size\n",
    "        self.update((block_num - self.last_block) * block_size)\n",
    "        self.last_block = block_num\n",
    "\n",
    "if not isfile(tar_gz_path):\n",
    "    with DLProgress(unit='B', unit_scale=True, miniters=1, desc='CIFAR-10 Dataset') as pbar:\n",
    "        urlretrieve(\n",
    "            'https://www.cs.toronto.edu/~kriz/cifar-10-python.tar.gz',\n",
    "            tar_gz_path,\n",
    "            pbar.hook)\n",
    "\n",
    "if not isdir(cifar10_dataset_folder_path):\n",
    "    with tarfile.open(tar_gz_path) as tar:\n",
    "        tar.extractall()\n",
    "        tar.close()\n",
    "\n",
    "\n",
    "tests.test_folder_path(cifar10_dataset_folder_path)"
   ]
  },
  {
   "cell_type": "markdown",
   "metadata": {},
   "source": [
    "## Explore the Data\n",
    "The dataset is broken into batches to prevent your machine from running out of memory.  The CIFAR-10 dataset consists of 5 batches, named `data_batch_1`, `data_batch_2`, etc.. Each batch contains the labels and images that are one of the following:\n",
    "* airplane\n",
    "* automobile\n",
    "* bird\n",
    "* cat\n",
    "* deer\n",
    "* dog\n",
    "* frog\n",
    "* horse\n",
    "* ship\n",
    "* truck\n",
    "\n",
    "Understanding a dataset is part of making predictions on the data.  Play around with the code cell below by changing the `batch_id` and `sample_id`. The `batch_id` is the id for a batch (1-5). The `sample_id` is the id for a image and label pair in the batch.\n",
    "\n",
    "Ask yourself \"What are all possible labels?\", \"What is the range of values for the image data?\", \"Are the labels in order or random?\".  Answers to questions like these will help you preprocess the data and end up with better predictions."
   ]
  },
  {
   "cell_type": "code",
   "execution_count": 83,
   "metadata": {},
   "outputs": [
    {
     "name": "stdout",
     "output_type": "stream",
     "text": [
      "\n",
      "Stats of batch 1:\n",
      "Samples: 10000\n",
      "Label Counts: {0: 1005, 1: 974, 2: 1032, 3: 1016, 4: 999, 5: 937, 6: 1030, 7: 1001, 8: 1025, 9: 981}\n",
      "First 20 Labels: [6, 9, 9, 4, 1, 1, 2, 7, 8, 3, 4, 7, 7, 2, 9, 9, 9, 3, 2, 6]\n",
      "\n",
      "Example of Image 78:\n",
      "Image - Min Value: 2 Max Value: 247\n",
      "Image - Shape: (32, 32, 3)\n",
      "Label - Label Id: 3 Name: cat\n"
     ]
    },
    {
     "data": {
      "image/png": "[encoded data removed]",
      "text/plain": [
       "<matplotlib.figure.Figure at 0x7fb77536ef60>"
      ]
     },
     "metadata": {
      "image/png": {
       "height": 250,
       "width": 253
      }
     },
     "output_type": "display_data"
    }
   ],
   "source": [
    "%matplotlib inline\n",
    "%config InlineBackend.figure_format = 'retina'\n",
    "\n",
    "import helper\n",
    "import numpy as np\n",
    "\n",
    "# Explore the dataset\n",
    "batch_id = 1\n",
    "sample_id = 78\n",
    "helper.display_stats(cifar10_dataset_folder_path, batch_id, sample_id)"
   ]
  },
  {
   "cell_type": "markdown",
   "metadata": {},
   "source": [
    "## Implement Preprocess Functions\n",
    "### Normalize\n",
    "In the cell below, implement the `normalize` function to take in image data, `x`, and return it as a normalized Numpy array. The values should be in the range of 0 to 1, inclusive.  The return object should be the same shape as `x`."
   ]
  },
  {
   "cell_type": "code",
   "execution_count": 84,
   "metadata": {},
   "outputs": [
    {
     "name": "stdout",
     "output_type": "stream",
     "text": [
      "Tests Passed\n"
     ]
    }
   ],
   "source": [
    "def normalize(x):\n",
    "    \"\"\"\n",
    "    Normalize a list of sample image data in the range of 0 to 1\n",
    "    : x: List of image data.  The image shape is (32, 32, 3)\n",
    "    : return: Numpy array of normalize data\n",
    "    \"\"\"\n",
    "    # TODO: Implement Function\n",
    "    return np.array((x - np.min(x))/(np.max(x)-np.min(x)))\n",
    "\n",
    "\n",
    "\"\"\"\n",
    "DON'T MODIFY ANYTHING IN THIS CELL THAT IS BELOW THIS LINE\n",
    "\"\"\"\n",
    "tests.test_normalize(normalize)"
   ]
  },
  {
   "cell_type": "markdown",
   "metadata": {},
   "source": [
    "### One-hot encode\n",
    "Just like the previous code cell, you'll be implementing a function for preprocessing.  This time, you'll implement the `one_hot_encode` function. The input, `x`, are a list of labels.  Implement the function to return the list of labels as One-Hot encoded Numpy array.  The possible values for labels are 0 to 9. The one-hot encoding function should return the same encoding for each value between each call to `one_hot_encode`.  Make sure to save the map of encodings outside the function.\n",
    "\n",
    "Hint: Don't reinvent the wheel."
   ]
  },
  {
   "cell_type": "code",
   "execution_count": 85,
   "metadata": {},
   "outputs": [
    {
     "name": "stdout",
     "output_type": "stream",
     "text": [
      "Tests Passed\n"
     ]
    }
   ],
   "source": [
    "def one_hot_encode(x):\n",
    "    \"\"\"\n",
    "    One hot encode a list of sample labels. Return a one-hot encoded vector for each label.\n",
    "    : x: List of sample Labels\n",
    "    : return: Numpy array of one-hot encoded labels\n",
    "    \"\"\"\n",
    "    # TODO: Implement Function\n",
    "    return np.eye(10)[x]\n",
    "\n",
    "\n",
    "\"\"\"\n",
    "DON'T MODIFY ANYTHING IN THIS CELL THAT IS BELOW THIS LINE\n",
    "\"\"\"\n",
    "tests.test_one_hot_encode(one_hot_encode)"
   ]
  },
  {
   "cell_type": "markdown",
   "metadata": {},
   "source": [
    "### Randomize Data\n",
    "As you saw from exploring the data above, the order of the samples are randomized.  It doesn't hurt to randomize it again, but you don't need to for this dataset."
   ]
  },
  {
   "cell_type": "markdown",
   "metadata": {},
   "source": [
    "## Preprocess all the data and save it\n",
    "Running the code cell below will preprocess all the CIFAR-10 data and save it to file. The code below also uses 10% of the training data for validation."
   ]
  },
  {
   "cell_type": "code",
   "execution_count": 86,
   "metadata": {
    "collapsed": true
   },
   "outputs": [],
   "source": [
    "\"\"\"\n",
    "DON'T MODIFY ANYTHING IN THIS CELL\n",
    "\"\"\"\n",
    "# Preprocess Training, Validation, and Testing Data\n",
    "helper.preprocess_and_save_data(cifar10_dataset_folder_path, normalize, one_hot_encode)"
   ]
  },
  {
   "cell_type": "markdown",
   "metadata": {},
   "source": [
    "# Check Point\n",
    "This is your first checkpoint.  If you ever decide to come back to this notebook or have to restart the notebook, you can start from here.  The preprocessed data has been saved to disk."
   ]
  },
  {
   "cell_type": "code",
   "execution_count": 87,
   "metadata": {
    "collapsed": true
   },
   "outputs": [],
   "source": [
    "\"\"\"\n",
    "DON'T MODIFY ANYTHING IN THIS CELL\n",
    "\"\"\"\n",
    "import pickle\n",
    "import problem_unittests as tests\n",
    "import helper\n",
    "\n",
    "# Load the Preprocessed Validation data\n",
    "valid_features, valid_labels = pickle.load(open('preprocess_validation.p', mode='rb'))"
   ]
  },
  {
   "cell_type": "markdown",
   "metadata": {},
   "source": [
    "## Build the network\n",
    "For the neural network, you'll build each layer into a function.  Most of the code you've seen has been outside of functions. To test your code more thoroughly, we require that you put each layer in a function.  This allows us to give you better feedback and test for simple mistakes using our unittests before you submit your project.\n",
    "\n",
    ">**Note:** If you're finding it hard to dedicate enough time for this course each week, we've provided a small shortcut to this part of the project. In the next couple of problems, you'll have the option to use classes from the [TensorFlow Layers](https://www.tensorflow.org/api_docs/python/tf/layers) or [TensorFlow Layers (contrib)](https://www.tensorflow.org/api_guides/python/contrib.layers) packages to build each layer, except the layers you build in the \"Convolutional and Max Pooling Layer\" section.  TF Layers is similar to Keras's and TFLearn's abstraction to layers, so it's easy to pickup.\n",
    "\n",
    ">However, if you would like to get the most out of this course, try to solve all the problems _without_ using anything from the TF Layers packages. You **can** still use classes from other packages that happen to have the same name as ones you find in TF Layers! For example, instead of using the TF Layers version of the `conv2d` class, [tf.layers.conv2d](https://www.tensorflow.org/api_docs/python/tf/layers/conv2d), you would want to use the TF Neural Network version of `conv2d`, [tf.nn.conv2d](https://www.tensorflow.org/api_docs/python/tf/nn/conv2d). \n",
    "\n",
    "Let's begin!\n",
    "\n",
    "### Input\n",
    "The neural network needs to read the image data, one-hot encoded labels, and dropout keep probability. Implement the following functions\n",
    "* Implement `neural_net_image_input`\n",
    " * Return a [TF Placeholder](https://www.tensorflow.org/api_docs/python/tf/placeholder)\n",
    " * Set the shape using `image_shape` with batch size set to `None`.\n",
    " * Name the TensorFlow placeholder \"x\" using the TensorFlow `name` parameter in the [TF Placeholder](https://www.tensorflow.org/api_docs/python/tf/placeholder).\n",
    "* Implement `neural_net_label_input`\n",
    " * Return a [TF Placeholder](https://www.tensorflow.org/api_docs/python/tf/placeholder)\n",
    " * Set the shape using `n_classes` with batch size set to `None`.\n",
    " * Name the TensorFlow placeholder \"y\" using the TensorFlow `name` parameter in the [TF Placeholder](https://www.tensorflow.org/api_docs/python/tf/placeholder).\n",
    "* Implement `neural_net_keep_prob_input`\n",
    " * Return a [TF Placeholder](https://www.tensorflow.org/api_docs/python/tf/placeholder) for dropout keep probability.\n",
    " * Name the TensorFlow placeholder \"keep_prob\" using the TensorFlow `name` parameter in the [TF Placeholder](https://www.tensorflow.org/api_docs/python/tf/placeholder).\n",
    "\n",
    "These names will be used at the end of the project to load your saved model.\n",
    "\n",
    "Note: `None` for shapes in TensorFlow allow for a dynamic size."
   ]
  },
  {
   "cell_type": "code",
   "execution_count": 88,
   "metadata": {},
   "outputs": [
    {
     "name": "stdout",
     "output_type": "stream",
     "text": [
      "Image Input Tests Passed.\n",
      "Label Input Tests Passed.\n",
      "Keep Prob Tests Passed.\n"
     ]
    }
   ],
   "source": [
    "import tensorflow as tf\n",
    "\n",
    "def neural_net_image_input(image_shape):\n",
    "    \"\"\"\n",
    "    Return a Tensor for a batch of image input\n",
    "    : image_shape: Shape of the images\n",
    "    : return: Tensor for image input.\n",
    "    \"\"\"\n",
    "    # TODO: Implement Function\n",
    "    return tf.placeholder(tf.float32, shape = [None, image_shape[0], image_shape[1], image_shape[2]], name = 'x')\n",
    "\n",
    "\n",
    "def neural_net_label_input(n_classes):\n",
    "    \"\"\"\n",
    "    Return a Tensor for a batch of label input\n",
    "    : n_classes: Number of classes\n",
    "    : return: Tensor for label input.\n",
    "    \"\"\"\n",
    "    # TODO: Implement Function\n",
    "    return tf.placeholder(tf.float32, shape = [None, n_classes], name = 'y')\n",
    "\n",
    "\n",
    "def neural_net_keep_prob_input():\n",
    "    \"\"\"\n",
    "    Return a Tensor for keep probability\n",
    "    : return: Tensor for keep probability.\n",
    "    \"\"\"\n",
    "    # TODO: Implement Function\n",
    "    return tf.placeholder(tf.float32, shape=None, name='keep_prob')\n",
    "\n",
    "\n",
    "\"\"\"\n",
    "DON'T MODIFY ANYTHING IN THIS CELL THAT IS BELOW THIS LINE\n",
    "\"\"\"\n",
    "tf.reset_default_graph()\n",
    "tests.test_nn_image_inputs(neural_net_image_input)\n",
    "tests.test_nn_label_inputs(neural_net_label_input)\n",
    "tests.test_nn_keep_prob_inputs(neural_net_keep_prob_input)"
   ]
  },
  {
   "cell_type": "markdown",
   "metadata": {},
   "source": [
    "### Convolution and Max Pooling Layer\n",
    "Convolution layers have a lot of success with images. For this code cell, you should implement the function `conv2d_maxpool` to apply convolution then max pooling:\n",
    "* Create the weight and bias using `conv_ksize`, `conv_num_outputs` and the shape of `x_tensor`.\n",
    "* Apply a convolution to `x_tensor` using weight and `conv_strides`.\n",
    " * We recommend you use same padding, but you're welcome to use any padding.\n",
    "* Add bias\n",
    "* Add a nonlinear activation to the convolution.\n",
    "* Apply Max Pooling using `pool_ksize` and `pool_strides`.\n",
    " * We recommend you use same padding, but you're welcome to use any padding.\n",
    "\n",
    "**Note:** You **can't** use [TensorFlow Layers](https://www.tensorflow.org/api_docs/python/tf/layers) or [TensorFlow Layers (contrib)](https://www.tensorflow.org/api_guides/python/contrib.layers) for **this** layer, but you can still use TensorFlow's [Neural Network](https://www.tensorflow.org/api_docs/python/tf/nn) package. You may still use the shortcut option for all the **other** layers."
   ]
  },
  {
   "cell_type": "code",
   "execution_count": 89,
   "metadata": {},
   "outputs": [
    {
     "name": "stdout",
     "output_type": "stream",
     "text": [
      "Tests Passed\n"
     ]
    }
   ],
   "source": [
    "def conv2d_maxpool(x_tensor, conv_num_outputs, conv_ksize, conv_strides, pool_ksize, pool_strides):\n",
    "    \"\"\"\n",
    "    Apply convolution then max pooling to x_tensor\n",
    "    :param x_tensor: TensorFlow Tensor\n",
    "    :param conv_num_outputs: Number of outputs for the convolutional layer\n",
    "    :param conv_ksize: kernal size 2-D Tuple for the convolutional layer\n",
    "    :param conv_strides: Stride 2-D Tuple for convolution\n",
    "    :param pool_ksize: kernal size 2-D Tuple for pool\n",
    "    :param pool_strides: Stride 2-D Tuple for pool\n",
    "    : return: A tensor that represents convolution and max pooling of x_tensor\n",
    "    \"\"\"\n",
    "    # TODO: Implement Function\n",
    "    F_W = tf.Variable(tf.truncated_normal((conv_ksize[0], conv_ksize[1], x_tensor.get_shape().as_list()[3],conv_num_outputs), stddev=0.1))\n",
    "    F_b = tf.Variable(tf.zeros(conv_num_outputs))\n",
    "    \n",
    "    \n",
    "    conv_layer = tf.nn.conv2d(x_tensor, F_W, strides = [1, *conv_strides, 1], padding= \"SAME\")\n",
    "    conv_layer = tf.nn.bias_add(conv_layer, F_b)\n",
    "    conv_layer = tf.nn.relu(conv_layer)\n",
    "\n",
    "    conv_layer = tf.nn.max_pool(conv_layer, ksize = [1, *pool_ksize, 1], strides = [1, *pool_strides, 1], padding=\"SAME\")\n",
    "    \n",
    "    return conv_layer\n",
    "\n",
    "\n",
    "\"\"\"\n",
    "DON'T MODIFY ANYTHING IN THIS CELL THAT IS BELOW THIS LINE\n",
    "\"\"\"\n",
    "tests.test_con_pool(conv2d_maxpool)"
   ]
  },
  {
   "cell_type": "markdown",
   "metadata": {},
   "source": [
    "### Flatten Layer\n",
    "Implement the `flatten` function to change the dimension of `x_tensor` from a 4-D tensor to a 2-D tensor.  The output should be the shape (*Batch Size*, *Flattened Image Size*). Shortcut option: you can use classes from the [TensorFlow Layers](https://www.tensorflow.org/api_docs/python/tf/layers) or [TensorFlow Layers (contrib)](https://www.tensorflow.org/api_guides/python/contrib.layers) packages for this layer. For more of a challenge, only use other TensorFlow packages."
   ]
  },
  {
   "cell_type": "code",
   "execution_count": 90,
   "metadata": {},
   "outputs": [
    {
     "name": "stdout",
     "output_type": "stream",
     "text": [
      "Tests Passed\n"
     ]
    }
   ],
   "source": [
    "def flatten(x_tensor):\n",
    "    \"\"\"\n",
    "    Flatten x_tensor to (Batch Size, Flattened Image Size)\n",
    "    : x_tensor: A tensor of size (Batch Size, ...), where ... are the image dimensions.\n",
    "    : return: A tensor of size (Batch Size, Flattened Image Size).\n",
    "    \"\"\"\n",
    "    # TODO: Implement Function\n",
    "    return tf.reshape(x_tensor, [-1, x_tensor.get_shape().as_list()[1]*x_tensor.get_shape().as_list()[2]*x_tensor.get_shape().as_list()[3]])\n",
    "\n",
    "\n",
    "\"\"\"\n",
    "DON'T MODIFY ANYTHING IN THIS CELL THAT IS BELOW THIS LINE\n",
    "\"\"\"\n",
    "tests.test_flatten(flatten)"
   ]
  },
  {
   "cell_type": "markdown",
   "metadata": {},
   "source": [
    "### Fully-Connected Layer\n",
    "Implement the `fully_conn` function to apply a fully connected layer to `x_tensor` with the shape (*Batch Size*, *num_outputs*). Shortcut option: you can use classes from the [TensorFlow Layers](https://www.tensorflow.org/api_docs/python/tf/layers) or [TensorFlow Layers (contrib)](https://www.tensorflow.org/api_guides/python/contrib.layers) packages for this layer. For more of a challenge, only use other TensorFlow packages."
   ]
  },
  {
   "cell_type": "code",
   "execution_count": 91,
   "metadata": {
    "collapsed": true
   },
   "outputs": [],
   "source": [
    "from tensorflow.contrib.layers import fully_connected"
   ]
  },
  {
   "cell_type": "code",
   "execution_count": 92,
   "metadata": {},
   "outputs": [
    {
     "name": "stdout",
     "output_type": "stream",
     "text": [
      "Tests Passed\n"
     ]
    }
   ],
   "source": [
    "\n",
    "\n",
    "def fully_conn(x_tensor, num_outputs):\n",
    "    \"\"\"\n",
    "    Apply a fully connected layer to x_tensor using weight and bias\n",
    "    : x_tensor: A 2-D tensor where the first dimension is batch size.\n",
    "    : num_outputs: The number of output that the new tensor should be.\n",
    "    : return: A 2-D tensor where the second dimension is num_outputs.\n",
    "    \"\"\"\n",
    "    # TODO: Implement Function\n",
    "    return fully_connected(x_tensor, num_outputs, activation_fn = tf.nn.relu)\n",
    "\n",
    "\n",
    "\"\"\"\n",
    "DON'T MODIFY ANYTHING IN THIS CELL THAT IS BELOW THIS LINE\n",
    "\"\"\"\n",
    "tests.test_fully_conn(fully_conn)"
   ]
  },
  {
   "cell_type": "markdown",
   "metadata": {},
   "source": [
    "### Output Layer\n",
    "Implement the `output` function to apply a fully connected layer to `x_tensor` with the shape (*Batch Size*, *num_outputs*). Shortcut option: you can use classes from the [TensorFlow Layers](https://www.tensorflow.org/api_docs/python/tf/layers) or [TensorFlow Layers (contrib)](https://www.tensorflow.org/api_guides/python/contrib.layers) packages for this layer. For more of a challenge, only use other TensorFlow packages.\n",
    "\n",
    "**Note:** Activation, softmax, or cross entropy should **not** be applied to this."
   ]
  },
  {
   "cell_type": "code",
   "execution_count": 93,
   "metadata": {},
   "outputs": [
    {
     "name": "stdout",
     "output_type": "stream",
     "text": [
      "Tests Passed\n"
     ]
    }
   ],
   "source": [
    "def output(x_tensor, num_outputs):\n",
    "    \"\"\"\n",
    "    Apply a output layer to x_tensor using weight and bias\n",
    "    : x_tensor: A 2-D tensor where the first dimension is batch size.\n",
    "    : num_outputs: The number of output that the new tensor should be.\n",
    "    : return: A 2-D tensor where the second dimension is num_outputs.\n",
    "    \"\"\"\n",
    "    # TODO: Implement Function\n",
    "    return fully_connected(x_tensor, num_outputs)\n",
    "\n",
    "\n",
    "\"\"\"\n",
    "DON'T MODIFY ANYTHING IN THIS CELL THAT IS BELOW THIS LINE\n",
    "\"\"\"\n",
    "tests.test_output(output)"
   ]
  },
  {
   "cell_type": "markdown",
   "metadata": {},
   "source": [
    "### Create Convolutional Model\n",
    "Implement the function `conv_net` to create a convolutional neural network model. The function takes in a batch of images, `x`, and outputs logits.  Use the layers you created above to create this model:\n",
    "\n",
    "* Apply 1, 2, or 3 Convolution and Max Pool layers\n",
    "* Apply a Flatten Layer\n",
    "* Apply 1, 2, or 3 Fully Connected Layers\n",
    "* Apply an Output Layer\n",
    "* Return the output\n",
    "* Apply [TensorFlow's Dropout](https://www.tensorflow.org/api_docs/python/tf/nn/dropout) to one or more layers in the model using `keep_prob`. "
   ]
  },
  {
   "cell_type": "code",
   "execution_count": 94,
   "metadata": {},
   "outputs": [
    {
     "name": "stdout",
     "output_type": "stream",
     "text": [
      "Neural Network Built!\n"
     ]
    }
   ],
   "source": [
    "def conv_net(x, keep_prob):\n",
    "    \"\"\"\n",
    "    Create a convolutional neural network model\n",
    "    : x: Placeholder tensor that holds image data.\n",
    "    : keep_prob: Placeholder tensor that hold dropout keep probability.\n",
    "    : return: Tensor that represents logits\n",
    "    \"\"\"\n",
    "    # TODO: Apply 1, 2, or 3 Convolution and Max Pool layers\n",
    "    #    Play around with different number of outputs, kernel size and stride\n",
    "    # Function Definition from Above:\n",
    "    #    conv2d_maxpool(x_tensor, conv_num_outputs, conv_ksize, conv_strides, pool_ksize, pool_strides)\n",
    "    net = conv2d_maxpool(\n",
    "        x_tensor = x, \n",
    "        conv_num_outputs = 32,\n",
    "        conv_ksize =  (3,3),\n",
    "        conv_strides = (2,2) ,\n",
    "        pool_ksize = (2,2) ,\n",
    "        pool_strides = (2,2) )\n",
    "    \n",
    "    net = conv2d_maxpool(\n",
    "        x_tensor = x, \n",
    "        conv_num_outputs = 64,\n",
    "        conv_ksize =  (3,3),\n",
    "        conv_strides = (2,2) ,\n",
    "        pool_ksize = (2,2) ,\n",
    "        pool_strides = (2,2) )\n",
    "    \n",
    "    net = conv2d_maxpool(\n",
    "        x_tensor = x, \n",
    "        conv_num_outputs = 128,\n",
    "        conv_ksize =  (3,3),\n",
    "        conv_strides = (2,2) ,\n",
    "        pool_ksize = (2,2) ,\n",
    "        pool_strides = (2,2) )    \n",
    "    \n",
    "    \n",
    "    \n",
    "    # TODO: Apply a Flatten Layer\n",
    "    # Function Definition from Above:\n",
    "    #   flatten(x_tensor)\n",
    "    net = flatten(net)\n",
    "\n",
    "    # TODO: Apply 1, 2, or 3 Fully Connected Layers\n",
    "    #    Play around with different number of outputs\n",
    "    # Function Definition from Above:\n",
    "    #   fully_conn(x_tensor, num_outputs)\n",
    "    net = fully_conn(net, 1024)\n",
    "    net = tf.nn.dropout(net, keep_prob)\n",
    "    net = fully_conn(net, 256)\n",
    "    net = tf.nn.dropout(net, keep_prob)\n",
    "    net = fully_conn(net, 100)\n",
    "    net = tf.nn.dropout(net, keep_prob)\n",
    "    \n",
    "    \n",
    "    \n",
    "    \n",
    "    # TODO: Apply an Output Layer\n",
    "    #    Set this to the number of classes\n",
    "    # Function Definition from Above:\n",
    "    #   output(x_tensor, num_outputs)\n",
    "    net = output(net, 10)\n",
    "    \n",
    "    \n",
    "    # TODO: return output\n",
    "    return net\n",
    "\n",
    "\n",
    "\"\"\"\n",
    "DON'T MODIFY ANYTHING IN THIS CELL THAT IS BELOW THIS LINE\n",
    "\"\"\"\n",
    "\n",
    "##############################\n",
    "## Build the Neural Network ##\n",
    "##############################\n",
    "\n",
    "# Remove previous weights, bias, inputs, etc..\n",
    "tf.reset_default_graph()\n",
    "\n",
    "# Inputs\n",
    "x = neural_net_image_input((32, 32, 3))\n",
    "y = neural_net_label_input(10)\n",
    "keep_prob = neural_net_keep_prob_input()\n",
    "\n",
    "# Model\n",
    "logits = conv_net(x, keep_prob)\n",
    "\n",
    "# Name logits Tensor, so that is can be loaded from disk after training\n",
    "logits = tf.identity(logits, name='logits')\n",
    "\n",
    "# Loss and Optimizer\n",
    "cost = tf.reduce_mean(tf.nn.softmax_cross_entropy_with_logits(logits=logits, labels=y))\n",
    "optimizer = tf.train.AdamOptimizer().minimize(cost)\n",
    "\n",
    "# Accuracy\n",
    "correct_pred = tf.equal(tf.argmax(logits, 1), tf.argmax(y, 1))\n",
    "accuracy = tf.reduce_mean(tf.cast(correct_pred, tf.float32), name='accuracy')\n",
    "\n",
    "tests.test_conv_net(conv_net)"
   ]
  },
  {
   "cell_type": "markdown",
   "metadata": {},
   "source": [
    "## Train the Neural Network\n",
    "### Single Optimization\n",
    "Implement the function `train_neural_network` to do a single optimization.  The optimization should use `optimizer` to optimize in `session` with a `feed_dict` of the following:\n",
    "* `x` for image input\n",
    "* `y` for labels\n",
    "* `keep_prob` for keep probability for dropout\n",
    "\n",
    "This function will be called for each batch, so `tf.global_variables_initializer()` has already been called.\n",
    "\n",
    "Note: Nothing needs to be returned. This function is only optimizing the neural network."
   ]
  },
  {
   "cell_type": "code",
   "execution_count": 95,
   "metadata": {},
   "outputs": [
    {
     "name": "stdout",
     "output_type": "stream",
     "text": [
      "Tests Passed\n"
     ]
    }
   ],
   "source": [
    "def train_neural_network(session, optimizer, keep_probability, feature_batch, label_batch):\n",
    "    \"\"\"\n",
    "    Optimize the session on a batch of images and labels\n",
    "    : session: Current TensorFlow session\n",
    "    : optimizer: TensorFlow optimizer function\n",
    "    : keep_probability: keep probability\n",
    "    : feature_batch: Batch of Numpy image data\n",
    "    : label_batch: Batch of Numpy label data\n",
    "    \"\"\"\n",
    "    # TODO: Implement Function\n",
    "    network = session.run(optimizer, feed_dict = {x: feature_batch, y: label_batch, keep_prob: keep_probability})\n",
    "\n",
    "\n",
    "\"\"\"\n",
    "DON'T MODIFY ANYTHING IN THIS CELL THAT IS BELOW THIS LINE\n",
    "\"\"\"\n",
    "tests.test_train_nn(train_neural_network)"
   ]
  },
  {
   "cell_type": "markdown",
   "metadata": {},
   "source": [
    "### Show Stats\n",
    "Implement the function `print_stats` to print loss and validation accuracy.  Use the global variables `valid_features` and `valid_labels` to calculate validation accuracy.  Use a keep probability of `1.0` to calculate the loss and validation accuracy."
   ]
  },
  {
   "cell_type": "code",
   "execution_count": 96,
   "metadata": {
    "collapsed": true
   },
   "outputs": [],
   "source": [
    "def print_stats(session, feature_batch, label_batch, cost, accuracy):\n",
    "    \"\"\"\n",
    "    Print information about loss and validation accuracy\n",
    "    : session: Current TensorFlow session\n",
    "    : feature_batch: Batch of Numpy image data\n",
    "    : label_batch: Batch of Numpy label data\n",
    "    : cost: TensorFlow cost function\n",
    "    : accuracy: TensorFlow accuracy function\n",
    "    \"\"\"\n",
    "    # TODO: Implement Function\n",
    "    loss = session.run(cost, feed_dict = {x: feature_batch, y: label_batch, keep_prob: keep_probability})\n",
    "    valid_acc = session.run(accuracy, feed_dict={x: valid_features, y:valid_labels, keep_prob: keep_probability})\n",
    "    print('Loss: {:>10.4f} Accuracy: {:.6f}'.format(loss, valid_acc))\n",
    "    pass"
   ]
  },
  {
   "cell_type": "markdown",
   "metadata": {},
   "source": [
    "### Hyperparameters\n",
    "Tune the following parameters:\n",
    "* Set `epochs` to the number of iterations until the network stops learning or start overfitting\n",
    "* Set `batch_size` to the highest number that your machine has memory for.  Most people set them to common sizes of memory:\n",
    " * 64\n",
    " * 128\n",
    " * 256\n",
    " * ...\n",
    "* Set `keep_probability` to the probability of keeping a node using dropout"
   ]
  },
  {
   "cell_type": "code",
   "execution_count": 97,
   "metadata": {
    "collapsed": true
   },
   "outputs": [],
   "source": [
    "# TODO: Tune Parameters\n",
    "epochs = 50\n",
    "batch_size = 5120\n",
    "keep_probability = .5"
   ]
  },
  {
   "cell_type": "markdown",
   "metadata": {},
   "source": [
    "### Train on a Single CIFAR-10 Batch\n",
    "Instead of training the neural network on all the CIFAR-10 batches of data, let's use a single batch. This should save time while you iterate on the model to get a better accuracy.  Once the final validation accuracy is 50% or greater, run the model on all the data in the next section."
   ]
  },
  {
   "cell_type": "code",
   "execution_count": 98,
   "metadata": {},
   "outputs": [
    {
     "name": "stdout",
     "output_type": "stream",
     "text": [
      "Checking the Training on a Single Batch...\n",
      "Epoch  1, CIFAR-10 Batch 1:  Loss:     2.3390 Accuracy: 0.100000\n",
      "Epoch  2, CIFAR-10 Batch 1:  Loss:     2.3152 Accuracy: 0.114600\n",
      "Epoch  3, CIFAR-10 Batch 1:  Loss:     2.2977 Accuracy: 0.117000\n",
      "Epoch  4, CIFAR-10 Batch 1:  Loss:     2.2941 Accuracy: 0.128800\n",
      "Epoch  5, CIFAR-10 Batch 1:  Loss:     2.2779 Accuracy: 0.128600\n",
      "Epoch  6, CIFAR-10 Batch 1:  Loss:     2.2612 Accuracy: 0.137600\n",
      "Epoch  7, CIFAR-10 Batch 1:  Loss:     2.2440 Accuracy: 0.159200\n",
      "Epoch  8, CIFAR-10 Batch 1:  Loss:     2.2192 Accuracy: 0.181000\n",
      "Epoch  9, CIFAR-10 Batch 1:  Loss:     2.2000 Accuracy: 0.186400\n",
      "Epoch 10, CIFAR-10 Batch 1:  Loss:     2.1767 Accuracy: 0.200800\n",
      "Epoch 11, CIFAR-10 Batch 1:  Loss:     2.1728 Accuracy: 0.211000\n",
      "Epoch 12, CIFAR-10 Batch 1:  Loss:     2.1412 Accuracy: 0.210200\n",
      "Epoch 13, CIFAR-10 Batch 1:  Loss:     2.1102 Accuracy: 0.241400\n",
      "Epoch 14, CIFAR-10 Batch 1:  Loss:     2.0676 Accuracy: 0.249000\n",
      "Epoch 15, CIFAR-10 Batch 1:  Loss:     2.0447 Accuracy: 0.259200\n",
      "Epoch 16, CIFAR-10 Batch 1:  Loss:     2.0229 Accuracy: 0.263800\n",
      "Epoch 17, CIFAR-10 Batch 1:  Loss:     1.9775 Accuracy: 0.264200\n",
      "Epoch 18, CIFAR-10 Batch 1:  Loss:     1.9625 Accuracy: 0.287000\n",
      "Epoch 19, CIFAR-10 Batch 1:  Loss:     1.9232 Accuracy: 0.287000\n",
      "Epoch 20, CIFAR-10 Batch 1:  Loss:     1.9071 Accuracy: 0.310400\n",
      "Epoch 21, CIFAR-10 Batch 1:  Loss:     1.8812 Accuracy: 0.295200\n",
      "Epoch 22, CIFAR-10 Batch 1:  Loss:     1.8446 Accuracy: 0.315800\n",
      "Epoch 23, CIFAR-10 Batch 1:  Loss:     1.8116 Accuracy: 0.321600\n",
      "Epoch 24, CIFAR-10 Batch 1:  Loss:     1.7953 Accuracy: 0.330800\n",
      "Epoch 25, CIFAR-10 Batch 1:  Loss:     1.7302 Accuracy: 0.346400\n",
      "Epoch 26, CIFAR-10 Batch 1:  Loss:     1.7196 Accuracy: 0.345000\n",
      "Epoch 27, CIFAR-10 Batch 1:  Loss:     1.7017 Accuracy: 0.376200\n",
      "Epoch 28, CIFAR-10 Batch 1:  Loss:     1.6857 Accuracy: 0.379400\n",
      "Epoch 29, CIFAR-10 Batch 1:  Loss:     1.6479 Accuracy: 0.385200\n",
      "Epoch 30, CIFAR-10 Batch 1:  Loss:     1.6088 Accuracy: 0.399800\n",
      "Epoch 31, CIFAR-10 Batch 1:  Loss:     1.5902 Accuracy: 0.409600\n",
      "Epoch 32, CIFAR-10 Batch 1:  Loss:     1.5539 Accuracy: 0.414000\n",
      "Epoch 33, CIFAR-10 Batch 1:  Loss:     1.5183 Accuracy: 0.430200\n",
      "Epoch 34, CIFAR-10 Batch 1:  Loss:     1.5010 Accuracy: 0.433400\n",
      "Epoch 35, CIFAR-10 Batch 1:  Loss:     1.4526 Accuracy: 0.441200\n",
      "Epoch 36, CIFAR-10 Batch 1:  Loss:     1.4575 Accuracy: 0.444200\n",
      "Epoch 37, CIFAR-10 Batch 1:  Loss:     1.4346 Accuracy: 0.451200\n",
      "Epoch 38, CIFAR-10 Batch 1:  Loss:     1.3970 Accuracy: 0.445600\n",
      "Epoch 39, CIFAR-10 Batch 1:  Loss:     1.3826 Accuracy: 0.464600\n",
      "Epoch 40, CIFAR-10 Batch 1:  Loss:     1.3545 Accuracy: 0.470800\n",
      "Epoch 41, CIFAR-10 Batch 1:  Loss:     1.3321 Accuracy: 0.468600\n",
      "Epoch 42, CIFAR-10 Batch 1:  Loss:     1.3355 Accuracy: 0.469000\n",
      "Epoch 43, CIFAR-10 Batch 1:  Loss:     1.3056 Accuracy: 0.480800\n",
      "Epoch 44, CIFAR-10 Batch 1:  Loss:     1.2732 Accuracy: 0.482200\n",
      "Epoch 45, CIFAR-10 Batch 1:  Loss:     1.2247 Accuracy: 0.482200\n",
      "Epoch 46, CIFAR-10 Batch 1:  Loss:     1.2199 Accuracy: 0.480400\n",
      "Epoch 47, CIFAR-10 Batch 1:  Loss:     1.2006 Accuracy: 0.484600\n",
      "Epoch 48, CIFAR-10 Batch 1:  Loss:     1.1894 Accuracy: 0.492400\n",
      "Epoch 49, CIFAR-10 Batch 1:  Loss:     1.1673 Accuracy: 0.508200\n",
      "Epoch 50, CIFAR-10 Batch 1:  Loss:     1.1593 Accuracy: 0.504200\n"
     ]
    }
   ],
   "source": [
    "\"\"\"\n",
    "DON'T MODIFY ANYTHING IN THIS CELL\n",
    "\"\"\"\n",
    "print('Checking the Training on a Single Batch...')\n",
    "with tf.Session() as sess:\n",
    "    # Initializing the variables\n",
    "    sess.run(tf.global_variables_initializer())\n",
    "    \n",
    "    # Training cycle\n",
    "    for epoch in range(epochs):\n",
    "        batch_i = 1\n",
    "        for batch_features, batch_labels in helper.load_preprocess_training_batch(batch_i, batch_size):\n",
    "            train_neural_network(sess, optimizer, keep_probability, batch_features, batch_labels)\n",
    "        print('Epoch {:>2}, CIFAR-10 Batch {}:  '.format(epoch + 1, batch_i), end='')\n",
    "        print_stats(sess, batch_features, batch_labels, cost, accuracy)"
   ]
  },
  {
   "cell_type": "markdown",
   "metadata": {},
   "source": [
    "### Fully Train the Model\n",
    "Now that you got a good accuracy with a single CIFAR-10 batch, try it with all five batches."
   ]
  },
  {
   "cell_type": "code",
   "execution_count": 99,
   "metadata": {},
   "outputs": [
    {
     "name": "stdout",
     "output_type": "stream",
     "text": [
      "Training...\n",
      "Epoch  1, CIFAR-10 Batch 1:  Loss:     2.3729 Accuracy: 0.099200\n",
      "Epoch  1, CIFAR-10 Batch 2:  Loss:     2.3350 Accuracy: 0.106200\n",
      "Epoch  1, CIFAR-10 Batch 3:  Loss:     2.3277 Accuracy: 0.101000\n",
      "Epoch  1, CIFAR-10 Batch 4:  Loss:     2.3094 Accuracy: 0.105800\n",
      "Epoch  1, CIFAR-10 Batch 5:  Loss:     2.3091 Accuracy: 0.100400\n",
      "Epoch  2, CIFAR-10 Batch 1:  Loss:     2.3048 Accuracy: 0.098200\n",
      "Epoch  2, CIFAR-10 Batch 2:  Loss:     2.3055 Accuracy: 0.101200\n",
      "Epoch  2, CIFAR-10 Batch 3:  Loss:     2.3013 Accuracy: 0.102400\n",
      "Epoch  2, CIFAR-10 Batch 4:  Loss:     2.3028 Accuracy: 0.101200\n",
      "Epoch  2, CIFAR-10 Batch 5:  Loss:     2.3019 Accuracy: 0.102200\n",
      "Epoch  3, CIFAR-10 Batch 1:  Loss:     2.3018 Accuracy: 0.100600\n",
      "Epoch  3, CIFAR-10 Batch 2:  Loss:     2.3009 Accuracy: 0.112600\n",
      "Epoch  3, CIFAR-10 Batch 3:  Loss:     2.2982 Accuracy: 0.105800\n",
      "Epoch  3, CIFAR-10 Batch 4:  Loss:     2.2957 Accuracy: 0.109400\n",
      "Epoch  3, CIFAR-10 Batch 5:  Loss:     2.2929 Accuracy: 0.109800\n",
      "Epoch  4, CIFAR-10 Batch 1:  Loss:     2.2864 Accuracy: 0.102400\n",
      "Epoch  4, CIFAR-10 Batch 2:  Loss:     2.2848 Accuracy: 0.110400\n",
      "Epoch  4, CIFAR-10 Batch 3:  Loss:     2.2737 Accuracy: 0.123200\n",
      "Epoch  4, CIFAR-10 Batch 4:  Loss:     2.2542 Accuracy: 0.127000\n",
      "Epoch  4, CIFAR-10 Batch 5:  Loss:     2.2511 Accuracy: 0.127600\n",
      "Epoch  5, CIFAR-10 Batch 1:  Loss:     2.2402 Accuracy: 0.135600\n",
      "Epoch  5, CIFAR-10 Batch 2:  Loss:     2.2404 Accuracy: 0.144400\n",
      "Epoch  5, CIFAR-10 Batch 3:  Loss:     2.2202 Accuracy: 0.155600\n",
      "Epoch  5, CIFAR-10 Batch 4:  Loss:     2.2050 Accuracy: 0.152000\n",
      "Epoch  5, CIFAR-10 Batch 5:  Loss:     2.2050 Accuracy: 0.166200\n",
      "Epoch  6, CIFAR-10 Batch 1:  Loss:     2.2006 Accuracy: 0.175400\n",
      "Epoch  6, CIFAR-10 Batch 2:  Loss:     2.1803 Accuracy: 0.186600\n",
      "Epoch  6, CIFAR-10 Batch 3:  Loss:     2.1654 Accuracy: 0.197400\n",
      "Epoch  6, CIFAR-10 Batch 4:  Loss:     2.1308 Accuracy: 0.212600\n",
      "Epoch  6, CIFAR-10 Batch 5:  Loss:     2.1145 Accuracy: 0.220800\n",
      "Epoch  7, CIFAR-10 Batch 1:  Loss:     2.0968 Accuracy: 0.239000\n",
      "Epoch  7, CIFAR-10 Batch 2:  Loss:     2.0906 Accuracy: 0.236800\n",
      "Epoch  7, CIFAR-10 Batch 3:  Loss:     2.0484 Accuracy: 0.252200\n",
      "Epoch  7, CIFAR-10 Batch 4:  Loss:     2.0130 Accuracy: 0.260000\n",
      "Epoch  7, CIFAR-10 Batch 5:  Loss:     2.0059 Accuracy: 0.262200\n",
      "Epoch  8, CIFAR-10 Batch 1:  Loss:     1.9951 Accuracy: 0.279000\n",
      "Epoch  8, CIFAR-10 Batch 2:  Loss:     1.9609 Accuracy: 0.281600\n",
      "Epoch  8, CIFAR-10 Batch 3:  Loss:     1.9472 Accuracy: 0.285000\n",
      "Epoch  8, CIFAR-10 Batch 4:  Loss:     1.9096 Accuracy: 0.294000\n",
      "Epoch  8, CIFAR-10 Batch 5:  Loss:     1.8792 Accuracy: 0.304600\n",
      "Epoch  9, CIFAR-10 Batch 1:  Loss:     1.8626 Accuracy: 0.314400\n",
      "Epoch  9, CIFAR-10 Batch 2:  Loss:     1.8507 Accuracy: 0.313200\n",
      "Epoch  9, CIFAR-10 Batch 3:  Loss:     1.8346 Accuracy: 0.316600\n",
      "Epoch  9, CIFAR-10 Batch 4:  Loss:     1.8023 Accuracy: 0.330800\n",
      "Epoch  9, CIFAR-10 Batch 5:  Loss:     1.7653 Accuracy: 0.326600\n",
      "Epoch 10, CIFAR-10 Batch 1:  Loss:     1.7448 Accuracy: 0.349400\n",
      "Epoch 10, CIFAR-10 Batch 2:  Loss:     1.7392 Accuracy: 0.357200\n",
      "Epoch 10, CIFAR-10 Batch 3:  Loss:     1.6833 Accuracy: 0.371000\n",
      "Epoch 10, CIFAR-10 Batch 4:  Loss:     1.6785 Accuracy: 0.378600\n",
      "Epoch 10, CIFAR-10 Batch 5:  Loss:     1.6721 Accuracy: 0.382200\n",
      "Epoch 11, CIFAR-10 Batch 1:  Loss:     1.6523 Accuracy: 0.399600\n",
      "Epoch 11, CIFAR-10 Batch 2:  Loss:     1.6376 Accuracy: 0.407800\n",
      "Epoch 11, CIFAR-10 Batch 3:  Loss:     1.6107 Accuracy: 0.413800\n",
      "Epoch 11, CIFAR-10 Batch 4:  Loss:     1.5863 Accuracy: 0.425200\n",
      "Epoch 11, CIFAR-10 Batch 5:  Loss:     1.5741 Accuracy: 0.420000\n",
      "Epoch 12, CIFAR-10 Batch 1:  Loss:     1.5568 Accuracy: 0.433000\n",
      "Epoch 12, CIFAR-10 Batch 2:  Loss:     1.5759 Accuracy: 0.427800\n",
      "Epoch 12, CIFAR-10 Batch 3:  Loss:     1.5372 Accuracy: 0.442000\n",
      "Epoch 12, CIFAR-10 Batch 4:  Loss:     1.5272 Accuracy: 0.448800\n",
      "Epoch 12, CIFAR-10 Batch 5:  Loss:     1.4846 Accuracy: 0.445800\n",
      "Epoch 13, CIFAR-10 Batch 1:  Loss:     1.4920 Accuracy: 0.463000\n",
      "Epoch 13, CIFAR-10 Batch 2:  Loss:     1.5230 Accuracy: 0.454600\n",
      "Epoch 13, CIFAR-10 Batch 3:  Loss:     1.4608 Accuracy: 0.467000\n",
      "Epoch 13, CIFAR-10 Batch 4:  Loss:     1.4621 Accuracy: 0.468000\n",
      "Epoch 13, CIFAR-10 Batch 5:  Loss:     1.4340 Accuracy: 0.468800\n",
      "Epoch 14, CIFAR-10 Batch 1:  Loss:     1.4345 Accuracy: 0.482200\n",
      "Epoch 14, CIFAR-10 Batch 2:  Loss:     1.4428 Accuracy: 0.486200\n",
      "Epoch 14, CIFAR-10 Batch 3:  Loss:     1.4000 Accuracy: 0.486200\n",
      "Epoch 14, CIFAR-10 Batch 4:  Loss:     1.3943 Accuracy: 0.498000\n",
      "Epoch 14, CIFAR-10 Batch 5:  Loss:     1.3622 Accuracy: 0.495600\n",
      "Epoch 15, CIFAR-10 Batch 1:  Loss:     1.3574 Accuracy: 0.501400\n",
      "Epoch 15, CIFAR-10 Batch 2:  Loss:     1.3892 Accuracy: 0.507800\n",
      "Epoch 15, CIFAR-10 Batch 3:  Loss:     1.3434 Accuracy: 0.503600\n",
      "Epoch 15, CIFAR-10 Batch 4:  Loss:     1.3455 Accuracy: 0.508000\n",
      "Epoch 15, CIFAR-10 Batch 5:  Loss:     1.3334 Accuracy: 0.512600\n",
      "Epoch 16, CIFAR-10 Batch 1:  Loss:     1.3272 Accuracy: 0.515600\n",
      "Epoch 16, CIFAR-10 Batch 2:  Loss:     1.3255 Accuracy: 0.525800\n",
      "Epoch 16, CIFAR-10 Batch 3:  Loss:     1.2921 Accuracy: 0.518800\n",
      "Epoch 16, CIFAR-10 Batch 4:  Loss:     1.3065 Accuracy: 0.517000\n",
      "Epoch 16, CIFAR-10 Batch 5:  Loss:     1.2727 Accuracy: 0.531400\n",
      "Epoch 17, CIFAR-10 Batch 1:  Loss:     1.2800 Accuracy: 0.532800\n",
      "Epoch 17, CIFAR-10 Batch 2:  Loss:     1.2886 Accuracy: 0.527800\n",
      "Epoch 17, CIFAR-10 Batch 3:  Loss:     1.2770 Accuracy: 0.517000\n",
      "Epoch 17, CIFAR-10 Batch 4:  Loss:     1.2684 Accuracy: 0.522600\n",
      "Epoch 17, CIFAR-10 Batch 5:  Loss:     1.2462 Accuracy: 0.541800\n",
      "Epoch 18, CIFAR-10 Batch 1:  Loss:     1.2261 Accuracy: 0.539400\n",
      "Epoch 18, CIFAR-10 Batch 2:  Loss:     1.2479 Accuracy: 0.542800\n",
      "Epoch 18, CIFAR-10 Batch 3:  Loss:     1.2144 Accuracy: 0.548800\n",
      "Epoch 18, CIFAR-10 Batch 4:  Loss:     1.2207 Accuracy: 0.550600\n",
      "Epoch 18, CIFAR-10 Batch 5:  Loss:     1.1825 Accuracy: 0.559800\n",
      "Epoch 19, CIFAR-10 Batch 1:  Loss:     1.1810 Accuracy: 0.552800\n",
      "Epoch 19, CIFAR-10 Batch 2:  Loss:     1.1809 Accuracy: 0.549600\n",
      "Epoch 19, CIFAR-10 Batch 3:  Loss:     1.1611 Accuracy: 0.555200\n",
      "Epoch 19, CIFAR-10 Batch 4:  Loss:     1.1864 Accuracy: 0.560000\n",
      "Epoch 19, CIFAR-10 Batch 5:  Loss:     1.1446 Accuracy: 0.556600\n",
      "Epoch 20, CIFAR-10 Batch 1:  Loss:     1.1727 Accuracy: 0.565400\n",
      "Epoch 20, CIFAR-10 Batch 2:  Loss:     1.1626 Accuracy: 0.558000\n",
      "Epoch 20, CIFAR-10 Batch 3:  Loss:     1.1290 Accuracy: 0.561600\n",
      "Epoch 20, CIFAR-10 Batch 4:  Loss:     1.1746 Accuracy: 0.562600\n",
      "Epoch 20, CIFAR-10 Batch 5:  Loss:     1.1126 Accuracy: 0.556200\n",
      "Epoch 21, CIFAR-10 Batch 1:  Loss:     1.1090 Accuracy: 0.563600\n",
      "Epoch 21, CIFAR-10 Batch 2:  Loss:     1.1325 Accuracy: 0.571800\n",
      "Epoch 21, CIFAR-10 Batch 3:  Loss:     1.0942 Accuracy: 0.560200\n",
      "Epoch 21, CIFAR-10 Batch 4:  Loss:     1.1287 Accuracy: 0.577000\n",
      "Epoch 21, CIFAR-10 Batch 5:  Loss:     1.0929 Accuracy: 0.569800\n",
      "Epoch 22, CIFAR-10 Batch 1:  Loss:     1.1025 Accuracy: 0.567600\n",
      "Epoch 22, CIFAR-10 Batch 2:  Loss:     1.0803 Accuracy: 0.567600\n",
      "Epoch 22, CIFAR-10 Batch 3:  Loss:     1.0636 Accuracy: 0.582800\n",
      "Epoch 22, CIFAR-10 Batch 4:  Loss:     1.1060 Accuracy: 0.575600\n",
      "Epoch 22, CIFAR-10 Batch 5:  Loss:     1.0568 Accuracy: 0.581200\n",
      "Epoch 23, CIFAR-10 Batch 1:  Loss:     1.0792 Accuracy: 0.583800\n",
      "Epoch 23, CIFAR-10 Batch 2:  Loss:     1.0590 Accuracy: 0.575600\n",
      "Epoch 23, CIFAR-10 Batch 3:  Loss:     1.0427 Accuracy: 0.574800\n",
      "Epoch 23, CIFAR-10 Batch 4:  Loss:     1.0611 Accuracy: 0.578000\n",
      "Epoch 23, CIFAR-10 Batch 5:  Loss:     1.0086 Accuracy: 0.581800\n",
      "Epoch 24, CIFAR-10 Batch 1:  Loss:     1.0267 Accuracy: 0.588200\n",
      "Epoch 24, CIFAR-10 Batch 2:  Loss:     1.0150 Accuracy: 0.582800\n",
      "Epoch 24, CIFAR-10 Batch 3:  Loss:     0.9912 Accuracy: 0.592800\n",
      "Epoch 24, CIFAR-10 Batch 4:  Loss:     1.0417 Accuracy: 0.587400\n",
      "Epoch 24, CIFAR-10 Batch 5:  Loss:     1.0065 Accuracy: 0.579600\n",
      "Epoch 25, CIFAR-10 Batch 1:  Loss:     1.0083 Accuracy: 0.587600\n",
      "Epoch 25, CIFAR-10 Batch 2:  Loss:     1.0039 Accuracy: 0.590000\n",
      "Epoch 25, CIFAR-10 Batch 3:  Loss:     0.9744 Accuracy: 0.591600\n",
      "Epoch 25, CIFAR-10 Batch 4:  Loss:     1.0003 Accuracy: 0.594200\n",
      "Epoch 25, CIFAR-10 Batch 5:  Loss:     0.9793 Accuracy: 0.584400\n",
      "Epoch 26, CIFAR-10 Batch 1:  Loss:     0.9883 Accuracy: 0.594400\n"
     ]
    },
    {
     "name": "stdout",
     "output_type": "stream",
     "text": [
      "Epoch 26, CIFAR-10 Batch 2:  Loss:     0.9761 Accuracy: 0.593400\n",
      "Epoch 26, CIFAR-10 Batch 3:  Loss:     0.9604 Accuracy: 0.595000\n",
      "Epoch 26, CIFAR-10 Batch 4:  Loss:     0.9705 Accuracy: 0.588000\n",
      "Epoch 26, CIFAR-10 Batch 5:  Loss:     0.9339 Accuracy: 0.587000\n",
      "Epoch 27, CIFAR-10 Batch 1:  Loss:     0.9679 Accuracy: 0.584800\n",
      "Epoch 27, CIFAR-10 Batch 2:  Loss:     0.9527 Accuracy: 0.594400\n",
      "Epoch 27, CIFAR-10 Batch 3:  Loss:     0.9400 Accuracy: 0.589800\n",
      "Epoch 27, CIFAR-10 Batch 4:  Loss:     0.9461 Accuracy: 0.596600\n",
      "Epoch 27, CIFAR-10 Batch 5:  Loss:     0.9412 Accuracy: 0.596400\n",
      "Epoch 28, CIFAR-10 Batch 1:  Loss:     0.9320 Accuracy: 0.595000\n",
      "Epoch 28, CIFAR-10 Batch 2:  Loss:     0.9416 Accuracy: 0.596600\n",
      "Epoch 28, CIFAR-10 Batch 3:  Loss:     0.8958 Accuracy: 0.602800\n",
      "Epoch 28, CIFAR-10 Batch 4:  Loss:     0.9371 Accuracy: 0.598800\n",
      "Epoch 28, CIFAR-10 Batch 5:  Loss:     0.9073 Accuracy: 0.594800\n",
      "Epoch 29, CIFAR-10 Batch 1:  Loss:     0.8960 Accuracy: 0.599400\n",
      "Epoch 29, CIFAR-10 Batch 2:  Loss:     0.9207 Accuracy: 0.602600\n",
      "Epoch 29, CIFAR-10 Batch 3:  Loss:     0.8572 Accuracy: 0.608200\n",
      "Epoch 29, CIFAR-10 Batch 4:  Loss:     0.9205 Accuracy: 0.598800\n",
      "Epoch 29, CIFAR-10 Batch 5:  Loss:     0.8725 Accuracy: 0.603800\n",
      "Epoch 30, CIFAR-10 Batch 1:  Loss:     0.8827 Accuracy: 0.602200\n",
      "Epoch 30, CIFAR-10 Batch 2:  Loss:     0.8640 Accuracy: 0.608200\n",
      "Epoch 30, CIFAR-10 Batch 3:  Loss:     0.8592 Accuracy: 0.608400\n",
      "Epoch 30, CIFAR-10 Batch 4:  Loss:     0.8817 Accuracy: 0.609200\n",
      "Epoch 30, CIFAR-10 Batch 5:  Loss:     0.8397 Accuracy: 0.609200\n",
      "Epoch 31, CIFAR-10 Batch 1:  Loss:     0.8691 Accuracy: 0.605400\n",
      "Epoch 31, CIFAR-10 Batch 2:  Loss:     0.8730 Accuracy: 0.605600\n",
      "Epoch 31, CIFAR-10 Batch 3:  Loss:     0.8410 Accuracy: 0.609800\n",
      "Epoch 31, CIFAR-10 Batch 4:  Loss:     0.8543 Accuracy: 0.608800\n",
      "Epoch 31, CIFAR-10 Batch 5:  Loss:     0.8329 Accuracy: 0.614200\n",
      "Epoch 32, CIFAR-10 Batch 1:  Loss:     0.8254 Accuracy: 0.616200\n",
      "Epoch 32, CIFAR-10 Batch 2:  Loss:     0.8481 Accuracy: 0.608200\n",
      "Epoch 32, CIFAR-10 Batch 3:  Loss:     0.8233 Accuracy: 0.603000\n",
      "Epoch 32, CIFAR-10 Batch 4:  Loss:     0.8432 Accuracy: 0.600600\n",
      "Epoch 32, CIFAR-10 Batch 5:  Loss:     0.8061 Accuracy: 0.611000\n",
      "Epoch 33, CIFAR-10 Batch 1:  Loss:     0.8441 Accuracy: 0.603400\n",
      "Epoch 33, CIFAR-10 Batch 2:  Loss:     0.8326 Accuracy: 0.607400\n",
      "Epoch 33, CIFAR-10 Batch 3:  Loss:     0.8097 Accuracy: 0.606200\n",
      "Epoch 33, CIFAR-10 Batch 4:  Loss:     0.8427 Accuracy: 0.609200\n",
      "Epoch 33, CIFAR-10 Batch 5:  Loss:     0.8139 Accuracy: 0.604800\n",
      "Epoch 34, CIFAR-10 Batch 1:  Loss:     0.8129 Accuracy: 0.609600\n",
      "Epoch 34, CIFAR-10 Batch 2:  Loss:     0.8144 Accuracy: 0.607800\n",
      "Epoch 34, CIFAR-10 Batch 3:  Loss:     0.7889 Accuracy: 0.608800\n",
      "Epoch 34, CIFAR-10 Batch 4:  Loss:     0.7963 Accuracy: 0.611200\n",
      "Epoch 34, CIFAR-10 Batch 5:  Loss:     0.7727 Accuracy: 0.617600\n",
      "Epoch 35, CIFAR-10 Batch 1:  Loss:     0.7755 Accuracy: 0.615000\n",
      "Epoch 35, CIFAR-10 Batch 2:  Loss:     0.7820 Accuracy: 0.615000\n",
      "Epoch 35, CIFAR-10 Batch 3:  Loss:     0.7647 Accuracy: 0.622200\n",
      "Epoch 35, CIFAR-10 Batch 4:  Loss:     0.7620 Accuracy: 0.609200\n",
      "Epoch 35, CIFAR-10 Batch 5:  Loss:     0.7528 Accuracy: 0.616600\n",
      "Epoch 36, CIFAR-10 Batch 1:  Loss:     0.7541 Accuracy: 0.614200\n",
      "Epoch 36, CIFAR-10 Batch 2:  Loss:     0.7558 Accuracy: 0.622400\n",
      "Epoch 36, CIFAR-10 Batch 3:  Loss:     0.7391 Accuracy: 0.621600\n",
      "Epoch 36, CIFAR-10 Batch 4:  Loss:     0.7615 Accuracy: 0.612800\n",
      "Epoch 36, CIFAR-10 Batch 5:  Loss:     0.7507 Accuracy: 0.618400\n",
      "Epoch 37, CIFAR-10 Batch 1:  Loss:     0.7452 Accuracy: 0.609400\n",
      "Epoch 37, CIFAR-10 Batch 2:  Loss:     0.7381 Accuracy: 0.619200\n",
      "Epoch 37, CIFAR-10 Batch 3:  Loss:     0.7309 Accuracy: 0.614600\n",
      "Epoch 37, CIFAR-10 Batch 4:  Loss:     0.7534 Accuracy: 0.605400\n",
      "Epoch 37, CIFAR-10 Batch 5:  Loss:     0.7125 Accuracy: 0.622800\n",
      "Epoch 38, CIFAR-10 Batch 1:  Loss:     0.7223 Accuracy: 0.616800\n",
      "Epoch 38, CIFAR-10 Batch 2:  Loss:     0.7123 Accuracy: 0.624000\n",
      "Epoch 38, CIFAR-10 Batch 3:  Loss:     0.7152 Accuracy: 0.622000\n",
      "Epoch 38, CIFAR-10 Batch 4:  Loss:     0.7730 Accuracy: 0.611000\n",
      "Epoch 38, CIFAR-10 Batch 5:  Loss:     0.7233 Accuracy: 0.625400\n",
      "Epoch 39, CIFAR-10 Batch 1:  Loss:     0.6818 Accuracy: 0.624200\n",
      "Epoch 39, CIFAR-10 Batch 2:  Loss:     0.6943 Accuracy: 0.618800\n",
      "Epoch 39, CIFAR-10 Batch 3:  Loss:     0.7280 Accuracy: 0.620000\n",
      "Epoch 39, CIFAR-10 Batch 4:  Loss:     0.7198 Accuracy: 0.610000\n",
      "Epoch 39, CIFAR-10 Batch 5:  Loss:     0.7023 Accuracy: 0.625200\n",
      "Epoch 40, CIFAR-10 Batch 1:  Loss:     0.6963 Accuracy: 0.619600\n",
      "Epoch 40, CIFAR-10 Batch 2:  Loss:     0.7224 Accuracy: 0.609400\n",
      "Epoch 40, CIFAR-10 Batch 3:  Loss:     0.6942 Accuracy: 0.624200\n",
      "Epoch 40, CIFAR-10 Batch 4:  Loss:     0.7251 Accuracy: 0.602400\n",
      "Epoch 40, CIFAR-10 Batch 5:  Loss:     0.6963 Accuracy: 0.610200\n",
      "Epoch 41, CIFAR-10 Batch 1:  Loss:     0.6765 Accuracy: 0.626600\n",
      "Epoch 41, CIFAR-10 Batch 2:  Loss:     0.6907 Accuracy: 0.616200\n",
      "Epoch 41, CIFAR-10 Batch 3:  Loss:     0.6779 Accuracy: 0.620000\n",
      "Epoch 41, CIFAR-10 Batch 4:  Loss:     0.7011 Accuracy: 0.623600\n",
      "Epoch 41, CIFAR-10 Batch 5:  Loss:     0.6894 Accuracy: 0.619000\n",
      "Epoch 42, CIFAR-10 Batch 1:  Loss:     0.6979 Accuracy: 0.619600\n",
      "Epoch 42, CIFAR-10 Batch 2:  Loss:     0.6583 Accuracy: 0.619200\n",
      "Epoch 42, CIFAR-10 Batch 3:  Loss:     0.6709 Accuracy: 0.612200\n",
      "Epoch 42, CIFAR-10 Batch 4:  Loss:     0.6727 Accuracy: 0.624400\n",
      "Epoch 42, CIFAR-10 Batch 5:  Loss:     0.6547 Accuracy: 0.625600\n",
      "Epoch 43, CIFAR-10 Batch 1:  Loss:     0.6429 Accuracy: 0.631800\n",
      "Epoch 43, CIFAR-10 Batch 2:  Loss:     0.6288 Accuracy: 0.621000\n",
      "Epoch 43, CIFAR-10 Batch 3:  Loss:     0.6284 Accuracy: 0.624000\n",
      "Epoch 43, CIFAR-10 Batch 4:  Loss:     0.6525 Accuracy: 0.625200\n",
      "Epoch 43, CIFAR-10 Batch 5:  Loss:     0.6303 Accuracy: 0.617200\n",
      "Epoch 44, CIFAR-10 Batch 1:  Loss:     0.6186 Accuracy: 0.622600\n",
      "Epoch 44, CIFAR-10 Batch 2:  Loss:     0.6169 Accuracy: 0.621200\n",
      "Epoch 44, CIFAR-10 Batch 3:  Loss:     0.6278 Accuracy: 0.621200\n",
      "Epoch 44, CIFAR-10 Batch 4:  Loss:     0.6297 Accuracy: 0.623400\n",
      "Epoch 44, CIFAR-10 Batch 5:  Loss:     0.6187 Accuracy: 0.627800\n",
      "Epoch 45, CIFAR-10 Batch 1:  Loss:     0.6038 Accuracy: 0.622000\n",
      "Epoch 45, CIFAR-10 Batch 2:  Loss:     0.6160 Accuracy: 0.632200\n",
      "Epoch 45, CIFAR-10 Batch 3:  Loss:     0.6193 Accuracy: 0.631400\n",
      "Epoch 45, CIFAR-10 Batch 4:  Loss:     0.6170 Accuracy: 0.627400\n",
      "Epoch 45, CIFAR-10 Batch 5:  Loss:     0.6135 Accuracy: 0.622400\n",
      "Epoch 46, CIFAR-10 Batch 1:  Loss:     0.6042 Accuracy: 0.620000\n",
      "Epoch 46, CIFAR-10 Batch 2:  Loss:     0.6139 Accuracy: 0.627200\n",
      "Epoch 46, CIFAR-10 Batch 3:  Loss:     0.5949 Accuracy: 0.623200\n",
      "Epoch 46, CIFAR-10 Batch 4:  Loss:     0.5916 Accuracy: 0.621800\n",
      "Epoch 46, CIFAR-10 Batch 5:  Loss:     0.5536 Accuracy: 0.628000\n",
      "Epoch 47, CIFAR-10 Batch 1:  Loss:     0.5562 Accuracy: 0.636800\n",
      "Epoch 47, CIFAR-10 Batch 2:  Loss:     0.6226 Accuracy: 0.621200\n",
      "Epoch 47, CIFAR-10 Batch 3:  Loss:     0.5995 Accuracy: 0.625600\n",
      "Epoch 47, CIFAR-10 Batch 4:  Loss:     0.5824 Accuracy: 0.623400\n",
      "Epoch 47, CIFAR-10 Batch 5:  Loss:     0.5814 Accuracy: 0.623600\n",
      "Epoch 48, CIFAR-10 Batch 1:  Loss:     0.5652 Accuracy: 0.631000\n",
      "Epoch 48, CIFAR-10 Batch 2:  Loss:     0.5516 Accuracy: 0.632000\n",
      "Epoch 48, CIFAR-10 Batch 3:  Loss:     0.5646 Accuracy: 0.628000\n",
      "Epoch 48, CIFAR-10 Batch 4:  Loss:     0.5757 Accuracy: 0.630800\n",
      "Epoch 48, CIFAR-10 Batch 5:  Loss:     0.5510 Accuracy: 0.626000\n",
      "Epoch 49, CIFAR-10 Batch 1:  Loss:     0.5516 Accuracy: 0.627400\n",
      "Epoch 49, CIFAR-10 Batch 2:  Loss:     0.5481 Accuracy: 0.637000\n",
      "Epoch 49, CIFAR-10 Batch 3:  Loss:     0.5544 Accuracy: 0.630200\n",
      "Epoch 49, CIFAR-10 Batch 4:  Loss:     0.5418 Accuracy: 0.634600\n",
      "Epoch 49, CIFAR-10 Batch 5:  Loss:     0.5274 Accuracy: 0.628400\n",
      "Epoch 50, CIFAR-10 Batch 1:  Loss:     0.5186 Accuracy: 0.627800\n",
      "Epoch 50, CIFAR-10 Batch 2:  Loss:     0.5329 Accuracy: 0.631800\n",
      "Epoch 50, CIFAR-10 Batch 3:  Loss:     0.5196 Accuracy: 0.628000\n",
      "Epoch 50, CIFAR-10 Batch 4:  Loss:     0.5420 Accuracy: 0.636600\n",
      "Epoch 50, CIFAR-10 Batch 5:  Loss:     0.5270 Accuracy: 0.632600\n"
     ]
    }
   ],
   "source": [
    "\"\"\"\n",
    "DON'T MODIFY ANYTHING IN THIS CELL\n",
    "\"\"\"\n",
    "save_model_path = './image_classification'\n",
    "\n",
    "print('Training...')\n",
    "with tf.Session() as sess:\n",
    "    # Initializing the variables\n",
    "    sess.run(tf.global_variables_initializer())\n",
    "    \n",
    "    # Training cycle\n",
    "    for epoch in range(epochs):\n",
    "        # Loop over all batches\n",
    "        n_batches = 5\n",
    "        for batch_i in range(1, n_batches + 1):\n",
    "            for batch_features, batch_labels in helper.load_preprocess_training_batch(batch_i, batch_size):\n",
    "                train_neural_network(sess, optimizer, keep_probability, batch_features, batch_labels)\n",
    "            print('Epoch {:>2}, CIFAR-10 Batch {}:  '.format(epoch + 1, batch_i), end='')\n",
    "            print_stats(sess, batch_features, batch_labels, cost, accuracy)\n",
    "            \n",
    "    # Save Model\n",
    "    saver = tf.train.Saver()\n",
    "    save_path = saver.save(sess, save_model_path)"
   ]
  },
  {
   "cell_type": "markdown",
   "metadata": {},
   "source": [
    "# Checkpoint\n",
    "The model has been saved to disk.\n",
    "## Test Model\n",
    "Test your model against the test dataset.  This will be your final accuracy. You should have an accuracy greater than 50%. If you don't, keep tweaking the model architecture and parameters."
   ]
  },
  {
   "cell_type": "code",
   "execution_count": 100,
   "metadata": {},
   "outputs": [
    {
     "name": "stdout",
     "output_type": "stream",
     "text": [
      "INFO:tensorflow:Restoring parameters from ./image_classification\n",
      "Testing Accuracy: 0.6792023777961731\n",
      "\n"
     ]
    },
    {
     "data": {
      "image/png": "[encoded data removed]",
      "text/plain": [
       "<matplotlib.figure.Figure at 0x7fb774c09208>"
      ]
     },
     "metadata": {
      "image/png": {
       "height": 319,
       "width": 355
      }
     },
     "output_type": "display_data"
    }
   ],
   "source": [
    "\"\"\"\n",
    "DON'T MODIFY ANYTHING IN THIS CELL\n",
    "\"\"\"\n",
    "%matplotlib inline\n",
    "%config InlineBackend.figure_format = 'retina'\n",
    "\n",
    "import tensorflow as tf\n",
    "import pickle\n",
    "import helper\n",
    "import random\n",
    "\n",
    "# Set batch size if not already set\n",
    "try:\n",
    "    if batch_size:\n",
    "        pass\n",
    "except NameError:\n",
    "    batch_size = 64\n",
    "\n",
    "save_model_path = './image_classification'\n",
    "n_samples = 4\n",
    "top_n_predictions = 3\n",
    "\n",
    "def test_model():\n",
    "    \"\"\"\n",
    "    Test the saved model against the test dataset\n",
    "    \"\"\"\n",
    "\n",
    "    test_features, test_labels = pickle.load(open('preprocess_test.p', mode='rb'))\n",
    "    loaded_graph = tf.Graph()\n",
    "\n",
    "    with tf.Session(graph=loaded_graph) as sess:\n",
    "        # Load model\n",
    "        loader = tf.train.import_meta_graph(save_model_path + '.meta')\n",
    "        loader.restore(sess, save_model_path)\n",
    "\n",
    "        # Get Tensors from loaded model\n",
    "        loaded_x = loaded_graph.get_tensor_by_name('x:0')\n",
    "        loaded_y = loaded_graph.get_tensor_by_name('y:0')\n",
    "        loaded_keep_prob = loaded_graph.get_tensor_by_name('keep_prob:0')\n",
    "        loaded_logits = loaded_graph.get_tensor_by_name('logits:0')\n",
    "        loaded_acc = loaded_graph.get_tensor_by_name('accuracy:0')\n",
    "        \n",
    "        # Get accuracy in batches for memory limitations\n",
    "        test_batch_acc_total = 0\n",
    "        test_batch_count = 0\n",
    "        \n",
    "        for test_feature_batch, test_label_batch in helper.batch_features_labels(test_features, test_labels, batch_size):\n",
    "            test_batch_acc_total += sess.run(\n",
    "                loaded_acc,\n",
    "                feed_dict={loaded_x: test_feature_batch, loaded_y: test_label_batch, loaded_keep_prob: 1.0})\n",
    "            test_batch_count += 1\n",
    "\n",
    "        print('Testing Accuracy: {}\\n'.format(test_batch_acc_total/test_batch_count))\n",
    "\n",
    "        # Print Random Samples\n",
    "        random_test_features, random_test_labels = tuple(zip(*random.sample(list(zip(test_features, test_labels)), n_samples)))\n",
    "        random_test_predictions = sess.run(\n",
    "            tf.nn.top_k(tf.nn.softmax(loaded_logits), top_n_predictions),\n",
    "            feed_dict={loaded_x: random_test_features, loaded_y: random_test_labels, loaded_keep_prob: 1.0})\n",
    "        helper.display_image_predictions(random_test_features, random_test_labels, random_test_predictions)\n",
    "\n",
    "\n",
    "test_model()"
   ]
  },
  {
   "cell_type": "markdown",
   "metadata": {},
   "source": [
    "## Why 50-80% Accuracy?\n",
    "You might be wondering why you can't get an accuracy any higher. First things first, 50% isn't bad for a simple CNN.  Pure guessing would get you 10% accuracy. However, you might notice people are getting scores [well above 80%](http://rodrigob.github.io/are_we_there_yet/build/classification_datasets_results.html#43494641522d3130).  That's because we haven't taught you all there is to know about neural networks. We still need to cover a few more techniques.\n",
    "## Submitting This Project\n",
    "When submitting this project, make sure to run all the cells before saving the notebook.  Save the notebook file as \"dlnd_image_classification.ipynb\" and save it as a HTML file under \"File\" -> \"Download as\".  Include the \"helper.py\" and \"problem_unittests.py\" files in your submission."
   ]
  }
 ],
 "metadata": {
  "kernelspec": {
   "display_name": "Python 3",
   "language": "python",
   "name": "python3"
  },
  "language_info": {
   "codemirror_mode": {
    "name": "ipython",
    "version": 3
   },
   "file_extension": ".py",
   "mimetype": "text/x-python",
   "name": "python",
   "nbconvert_exporter": "python",
   "pygments_lexer": "ipython3",
   "version": "3.5.3"
  }
 },
 "nbformat": 4,
 "nbformat_minor": 1
}
